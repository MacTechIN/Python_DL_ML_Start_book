{
 "cells": [
  {
   "cell_type": "markdown",
   "metadata": {
    "id": "Agvv7QQtUsvA"
   },
   "source": [
    "### 텐서플로 2.0 "
   ]
  },
  {
   "cell_type": "code",
   "execution_count": null,
   "metadata": {
    "colab": {
     "base_uri": "https://localhost:8080/",
     "height": 34
    },
    "executionInfo": {
     "elapsed": 2474,
     "status": "ok",
     "timestamp": 1603085886234,
     "user": {
      "displayName": "오승환",
      "photoUrl": "https://lh3.googleusercontent.com/a-/AOh14GgBRB1w8bMEGhEpsp7aa7I9MQGz2D37o6hJeKeW=s64",
      "userId": "00933700884551564729"
     },
     "user_tz": -540
    },
    "id": "CRvUrAj1UqTY",
    "outputId": "979ef6ac-9026-486b-b16f-597beb7ed6d8"
   },
   "outputs": [
    {
     "name": "stdout",
     "output_type": "stream",
     "text": [
      "2.3.0\n"
     ]
    }
   ],
   "source": [
    "import tensorflow as tf\n",
    "print(tf.__version__)"
   ]
  },
  {
   "cell_type": "markdown",
   "metadata": {
    "id": "9hGCylscU2VT"
   },
   "source": [
    "### x 변수, y 변수 데이터 "
   ]
  },
  {
   "cell_type": "code",
   "execution_count": null,
   "metadata": {
    "colab": {
     "base_uri": "https://localhost:8080/",
     "height": 34
    },
    "executionInfo": {
     "elapsed": 2467,
     "status": "ok",
     "timestamp": 1603085886235,
     "user": {
      "displayName": "오승환",
      "photoUrl": "https://lh3.googleusercontent.com/a-/AOh14GgBRB1w8bMEGhEpsp7aa7I9MQGz2D37o6hJeKeW=s64",
      "userId": "00933700884551564729"
     },
     "user_tz": -540
    },
    "id": "4mrbA_7GU1Z9",
    "outputId": "06a1e1d9-4d3d-4fb1-8e00-848f60c183e7"
   },
   "outputs": [
    {
     "name": "stdout",
     "output_type": "stream",
     "text": [
      "(10, 1) (10,)\n"
     ]
    }
   ],
   "source": [
    "import pandas as pd\n",
    "import numpy as np\n",
    "\n",
    "x = [-3,  31,  -11,  4,  0,  22, -2, -5, -25, -14]\n",
    "y = [ -2,   32,   -10,   5,  1,   23,  -1,  -4, -24,  -13]\n",
    "\n",
    "X_train = np.array(x).reshape(-1, 1)\n",
    "y_train = np.array(y)\n",
    "\n",
    "print(X_train.shape, y_train.shape)"
   ]
  },
  {
   "cell_type": "markdown",
   "metadata": {
    "id": "xr5HfGUfU8ox"
   },
   "source": [
    "### 인공 신경망 모델 "
   ]
  },
  {
   "cell_type": "code",
   "execution_count": null,
   "metadata": {
    "id": "9DitxBZyU73g"
   },
   "outputs": [],
   "source": [
    "from tensorflow.keras import Sequential\n",
    "from tensorflow.keras.layers import Dense\n",
    "\n",
    "model = Sequential()\n",
    "model.add(Dense(units=1, activation='linear', input_dim=1))"
   ]
  },
  {
   "cell_type": "code",
   "execution_count": null,
   "metadata": {
    "colab": {
     "base_uri": "https://localhost:8080/",
     "height": 193
    },
    "executionInfo": {
     "elapsed": 2457,
     "status": "ok",
     "timestamp": 1603085886236,
     "user": {
      "displayName": "오승환",
      "photoUrl": "https://lh3.googleusercontent.com/a-/AOh14GgBRB1w8bMEGhEpsp7aa7I9MQGz2D37o6hJeKeW=s64",
      "userId": "00933700884551564729"
     },
     "user_tz": -540
    },
    "id": "NwhllUeXVG5-",
    "outputId": "c0d03c37-a338-4747-d442-649215fac613"
   },
   "outputs": [
    {
     "name": "stdout",
     "output_type": "stream",
     "text": [
      "Model: \"sequential\"\n",
      "_________________________________________________________________\n",
      "Layer (type)                 Output Shape              Param #   \n",
      "=================================================================\n",
      "dense (Dense)                (None, 1)                 2         \n",
      "=================================================================\n",
      "Total params: 2\n",
      "Trainable params: 2\n",
      "Non-trainable params: 0\n",
      "_________________________________________________________________\n"
     ]
    }
   ],
   "source": [
    "model.summary()"
   ]
  },
  {
   "cell_type": "code",
   "execution_count": null,
   "metadata": {
    "id": "HdnmojJFVIjJ"
   },
   "outputs": [],
   "source": [
    "model.compile(optimizer='adam', loss='mse', metrics=['mae'])"
   ]
  },
  {
   "cell_type": "code",
   "execution_count": null,
   "metadata": {
    "colab": {
     "base_uri": "https://localhost:8080/",
     "height": 34
    },
    "executionInfo": {
     "elapsed": 6827,
     "status": "ok",
     "timestamp": 1603085890617,
     "user": {
      "displayName": "오승환",
      "photoUrl": "https://lh3.googleusercontent.com/a-/AOh14GgBRB1w8bMEGhEpsp7aa7I9MQGz2D37o6hJeKeW=s64",
      "userId": "00933700884551564729"
     },
     "user_tz": -540
    },
    "id": "2gKrsY1PVOAc",
    "outputId": "8231c21a-f191-4db6-af1c-b0a2073d2f97"
   },
   "outputs": [
    {
     "data": {
      "text/plain": [
       "<tensorflow.python.keras.callbacks.History at 0x7f6493736978>"
      ]
     },
     "execution_count": 6,
     "metadata": {
      "tags": []
     },
     "output_type": "execute_result"
    }
   ],
   "source": [
    "model.fit(X_train, y_train, epochs=3000, verbose=0)"
   ]
  },
  {
   "cell_type": "code",
   "execution_count": null,
   "metadata": {
    "colab": {
     "base_uri": "https://localhost:8080/",
     "height": 52
    },
    "executionInfo": {
     "elapsed": 6823,
     "status": "ok",
     "timestamp": 1603085890618,
     "user": {
      "displayName": "오승환",
      "photoUrl": "https://lh3.googleusercontent.com/a-/AOh14GgBRB1w8bMEGhEpsp7aa7I9MQGz2D37o6hJeKeW=s64",
      "userId": "00933700884551564729"
     },
     "user_tz": -540
    },
    "id": "eipo8CQpVP82",
    "outputId": "e3a43c1b-f796-4d39-c5bc-70788554b481"
   },
   "outputs": [
    {
     "data": {
      "text/plain": [
       "[<tf.Variable 'dense/kernel:0' shape=(1, 1) dtype=float32, numpy=array([[0.9999991]], dtype=float32)>,\n",
       " <tf.Variable 'dense/bias:0' shape=(1,) dtype=float32, numpy=array([0.9997138], dtype=float32)>]"
      ]
     },
     "execution_count": 7,
     "metadata": {
      "tags": []
     },
     "output_type": "execute_result"
    }
   ],
   "source": [
    "model.weights"
   ]
  },
  {
   "cell_type": "markdown",
   "metadata": {
    "id": "ePgSsI0AVo9E"
   },
   "source": [
    "### 예측"
   ]
  },
  {
   "cell_type": "code",
   "execution_count": null,
   "metadata": {
    "colab": {
     "base_uri": "https://localhost:8080/",
     "height": 70
    },
    "executionInfo": {
     "elapsed": 6817,
     "status": "ok",
     "timestamp": 1603085890618,
     "user": {
      "displayName": "오승환",
      "photoUrl": "https://lh3.googleusercontent.com/a-/AOh14GgBRB1w8bMEGhEpsp7aa7I9MQGz2D37o6hJeKeW=s64",
      "userId": "00933700884551564729"
     },
     "user_tz": -540
    },
    "id": "v5Y0ONTIVaUj",
    "outputId": "528cb04c-8c28-4040-eb0e-41f1ce17e9e3"
   },
   "outputs": [
    {
     "data": {
      "text/plain": [
       "array([[11.999704],\n",
       "       [12.999703],\n",
       "       [13.999702]], dtype=float32)"
      ]
     },
     "execution_count": 8,
     "metadata": {
      "tags": []
     },
     "output_type": "execute_result"
    }
   ],
   "source": [
    "model.predict([[11], [12], [13]])"
   ]
  }
 ],
 "metadata": {
  "colab": {
   "authorship_tag": "ABX9TyOwR8hLFhWkicl9jVtfpLtb",
   "collapsed_sections": [],
   "name": "5_1.introduction.ipynb",
   "provenance": []
  },
  "kernelspec": {
   "display_name": "Python 3 (ipykernel)",
   "language": "python",
   "name": "python3"
  },
  "language_info": {
   "codemirror_mode": {
    "name": "ipython",
    "version": 3
   },
   "file_extension": ".py",
   "mimetype": "text/x-python",
   "name": "python",
   "nbconvert_exporter": "python",
   "pygments_lexer": "ipython3",
   "version": "3.11.5"
  }
 },
 "nbformat": 4,
 "nbformat_minor": 1
}
