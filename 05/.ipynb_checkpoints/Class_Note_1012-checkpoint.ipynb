{
 "cells": [
  {
   "cell_type": "markdown",
   "metadata": {
    "id": "WJ6_-OEoLT7w"
   },
   "source": [
    "# 라이브러리 환경"
   ]
  },
  {
   "cell_type": "code",
   "execution_count": 19,
   "metadata": {
    "colab": {
     "base_uri": "https://localhost:8080/",
     "height": 34
    },
    "executionInfo": {
     "elapsed": 2790,
     "status": "ok",
     "timestamp": 1603861570394,
     "user": {
      "displayName": "오승환",
      "photoUrl": "https://lh3.googleusercontent.com/a-/AOh14GgBRB1w8bMEGhEpsp7aa7I9MQGz2D37o6hJeKeW=s64",
      "userId": "00933700884551564729"
     },
     "user_tz": -540
    },
    "id": "h9p4-xQbd9ph",
    "outputId": "b806b195-cf3a-4903-ef25-1b7b6bdf09c5"
   },
   "outputs": [
    {
     "name": "stdout",
     "output_type": "stream",
     "text": [
      "2.14.0\n"
     ]
    }
   ],
   "source": [
    "import pandas as pd\n",
    "import numpy as np\n",
    "import random\n",
    "import tensorflow as tf\n",
    "print(tf.__version__)"
   ]
  },
  {
   "cell_type": "code",
   "execution_count": 20,
   "metadata": {
    "colab": {
     "base_uri": "https://localhost:8080/",
     "height": 34
    },
    "executionInfo": {
     "elapsed": 2774,
     "status": "ok",
     "timestamp": 1603861570397,
     "user": {
      "displayName": "오승환",
      "photoUrl": "https://lh3.googleusercontent.com/a-/AOh14GgBRB1w8bMEGhEpsp7aa7I9MQGz2D37o6hJeKeW=s64",
      "userId": "00933700884551564729"
     },
     "user_tz": -540
    },
    "id": "K7ISwNXx-pcX",
    "outputId": "d50518de-5359-408f-fdc9-8cdcf9c93c05"
   },
   "outputs": [
    {
     "name": "stdout",
     "output_type": "stream",
     "text": [
      "시드 고정:  12\n"
     ]
    }
   ],
   "source": [
    "# 랜덤 시드 고정\n",
    "SEED=12\n",
    "random.seed(SEED)\n",
    "np.random.seed(SEED)\n",
    "tf.random.set_seed(SEED)  \n",
    "print(\"시드 고정: \", SEED)"
   ]
  },
  {
   "cell_type": "markdown",
   "metadata": {
    "id": "qTwSGGIB74h7"
   },
   "source": [
    "# 데이터 전처리"
   ]
  },
  {
   "cell_type": "raw",
   "metadata": {
    "colab": {
     "base_uri": "https://localhost:8080/",
     "height": 34
    },
    "executionInfo": {
     "elapsed": 3155,
     "status": "ok",
     "timestamp": 1603861570890,
     "user": {
      "displayName": "오승환",
      "photoUrl": "https://lh3.googleusercontent.com/a-/AOh14GgBRB1w8bMEGhEpsp7aa7I9MQGz2D37o6hJeKeW=s64",
      "userId": "00933700884551564729"
     },
     "user_tz": -540
    },
    "id": "nLkOFAY5LpRl",
    "outputId": "e3cb79c7-524f-4876-8c05-b241e2e14519"
   },
   "source": [
    "# skleran 데이터셋에서 보스턴 주택 데이터셋 로딩\n",
    "from sklearn import datasets\n",
    "housing = datasets.load_boston()\n",
    "X_data = housing.data\n",
    "y_data = housing.target\n",
    "print(X_data.shape, y_data.shape)"
   ]
  },
  {
   "cell_type": "code",
   "execution_count": 21,
   "metadata": {},
   "outputs": [
    {
     "name": "stdout",
     "output_type": "stream",
     "text": [
      "(506, 13) (506, 1)\n"
     ]
    }
   ],
   "source": [
    "#File 로 로딩 하기 \n",
    "X_data = pd.read_csv(\"./boston_housing_data.csv\")\n",
    "y_data = pd.read_csv( \"./boston_housing_target.csv\")\n",
    "\n",
    "\n",
    "print(X_data.shape, y_data.shape)"
   ]
  },
  {
   "cell_type": "code",
   "execution_count": 22,
   "metadata": {},
   "outputs": [],
   "source": [
    "from sklearn.preprocessing import MinMaxScaler\n",
    "\n",
    "scaler = MinMaxScaler() \n",
    "X_data_scaled = scaler.fit_transform(X_data)"
   ]
  },
  {
   "cell_type": "code",
   "execution_count": 23,
   "metadata": {
    "colab": {
     "base_uri": "https://localhost:8080/",
     "height": 52
    },
    "executionInfo": {
     "elapsed": 1225,
     "status": "ok",
     "timestamp": 1603863315013,
     "user": {
      "displayName": "오승환",
      "photoUrl": "https://lh3.googleusercontent.com/a-/AOh14GgBRB1w8bMEGhEpsp7aa7I9MQGz2D37o6hJeKeW=s64",
      "userId": "00933700884551564729"
     },
     "user_tz": -540
    },
    "id": "JW8fwFpls-Sw",
    "outputId": "39ad1379-4bac-492e-fd2f-4b7580ddc210"
   },
   "outputs": [],
   "source": [
    "# housing.feature_names"
   ]
  },
  {
   "cell_type": "code",
   "execution_count": 24,
   "metadata": {
    "colab": {
     "base_uri": "https://localhost:8080/",
     "height": 52
    },
    "executionInfo": {
     "elapsed": 2499,
     "status": "ok",
     "timestamp": 1603615331449,
     "user": {
      "displayName": "오승환",
      "photoUrl": "https://lh3.googleusercontent.com/a-/AOh14GgBRB1w8bMEGhEpsp7aa7I9MQGz2D37o6hJeKeW=s64",
      "userId": "00933700884551564729"
     },
     "user_tz": -540
    },
    "id": "RR1YRptuL_iS",
    "outputId": "9fa279d5-7119-47d2-8dd0-81804dd48916"
   },
   "outputs": [
    {
     "name": "stdout",
     "output_type": "stream",
     "text": [
      "(404, 13) (404, 1)\n",
      "(102, 13) (102, 1)\n"
     ]
    }
   ],
   "source": [
    "# 학습 - 테스트 데이터셋 분할\n",
    "from sklearn.model_selection import train_test_split\n",
    "X_train, X_test, y_train, y_test = train_test_split(X_data_scaled, y_data, \n",
    "                                                    test_size=0.2, \n",
    "                                                    shuffle=True, \n",
    "                                                    random_state=SEED)\n",
    "print(X_train.shape, y_train.shape)\n",
    "print(X_test.shape, y_test.shape)"
   ]
  },
  {
   "cell_type": "markdown",
   "metadata": {
    "id": "5p2ucCS6KpJV"
   },
   "source": [
    "# 신경망 학습"
   ]
  },
  {
   "cell_type": "code",
   "execution_count": 25,
   "metadata": {
    "colab": {
     "base_uri": "https://localhost:8080/",
     "height": 332
    },
    "executionInfo": {
     "elapsed": 2917,
     "status": "ok",
     "timestamp": 1603615331883,
     "user": {
      "displayName": "오승환",
      "photoUrl": "https://lh3.googleusercontent.com/a-/AOh14GgBRB1w8bMEGhEpsp7aa7I9MQGz2D37o6hJeKeW=s64",
      "userId": "00933700884551564729"
     },
     "user_tz": -540
    },
    "id": "q-zfjBdlprBZ",
    "outputId": "9a1a25ff-1e05-4583-9c3f-448137b935fb"
   },
   "outputs": [
    {
     "name": "stdout",
     "output_type": "stream",
     "text": [
      "Model: \"sequential\"\n",
      "_________________________________________________________________\n",
      " Layer (type)                Output Shape              Param #   \n",
      "=================================================================\n",
      " dense (Dense)               (None, 128)               1792      \n",
      "                                                                 \n",
      " dense_1 (Dense)             (None, 64)                8256      \n",
      "                                                                 \n",
      " dense_2 (Dense)             (None, 32)                2080      \n",
      "                                                                 \n",
      " dense_3 (Dense)             (None, 16)                528       \n",
      "                                                                 \n",
      " dense_4 (Dense)             (None, 1)                 17        \n",
      "                                                                 \n",
      "=================================================================\n",
      "Total params: 12673 (49.50 KB)\n",
      "Trainable params: 12673 (49.50 KB)\n",
      "Non-trainable params: 0 (0.00 Byte)\n",
      "_________________________________________________________________\n"
     ]
    }
   ],
   "source": [
    "# 심층 신경망\n",
    "\n",
    "from tensorflow.keras import Sequential\n",
    "from tensorflow.keras.layers import Dense\n",
    "\n",
    "def build_model(num_input=1):\n",
    "    model = Sequential() #모델을 얻고 \n",
    "    model.add(Dense(128, activation='relu', input_dim=num_input))\n",
    "    model.add(Dense(64, activation='relu'))\n",
    "    model.add(Dense(32, activation='relu'))\n",
    "    model.add(Dense(16, activation='relu'))\n",
    "    model.add(Dense(1, activation='linear')) # 출력 계층 -> 한개만 출력 \n",
    "\n",
    "    model.compile(optimizer='adam', loss='mse', metrics=['mae'])\n",
    "\n",
    "    return model\n",
    "\n",
    "model = build_model(num_input=13)\n",
    "model.summary()"
   ]
  },
  {
   "cell_type": "code",
   "execution_count": 30,
   "metadata": {
    "colab": {
     "base_uri": "https://localhost:8080/",
     "height": 1000
    },
    "executionInfo": {
     "elapsed": 5288,
     "status": "ok",
     "timestamp": 1603615334278,
     "user": {
      "displayName": "오승환",
      "photoUrl": "https://lh3.googleusercontent.com/a-/AOh14GgBRB1w8bMEGhEpsp7aa7I9MQGz2D37o6hJeKeW=s64",
      "userId": "00933700884551564729"
     },
     "user_tz": -540
    },
    "id": "C-0xDlS641Yx",
    "outputId": "e9d5f5dc-a7e8-4855-f60e-bbe2593eaf08"
   },
   "outputs": [
    {
     "name": "stdout",
     "output_type": "stream",
     "text": [
      "Epoch 1/100\n",
      "13/13 - 0s - loss: 6.7961 - mae: 1.8571 - 13ms/epoch - 994us/step\n",
      "Epoch 2/100\n",
      "13/13 - 0s - loss: 6.6556 - mae: 1.8549 - 12ms/epoch - 944us/step\n",
      "Epoch 3/100\n",
      "13/13 - 0s - loss: 6.8939 - mae: 1.8895 - 12ms/epoch - 953us/step\n",
      "Epoch 4/100\n",
      "13/13 - 0s - loss: 7.7353 - mae: 2.0179 - 11ms/epoch - 868us/step\n",
      "Epoch 5/100\n",
      "13/13 - 0s - loss: 6.6688 - mae: 1.8471 - 11ms/epoch - 864us/step\n",
      "Epoch 6/100\n",
      "13/13 - 0s - loss: 6.7759 - mae: 1.9090 - 11ms/epoch - 866us/step\n",
      "Epoch 7/100\n",
      "13/13 - 0s - loss: 6.5919 - mae: 1.8707 - 11ms/epoch - 872us/step\n",
      "Epoch 8/100\n",
      "13/13 - 0s - loss: 6.3118 - mae: 1.8189 - 11ms/epoch - 856us/step\n",
      "Epoch 9/100\n",
      "13/13 - 0s - loss: 6.5123 - mae: 1.8434 - 12ms/epoch - 896us/step\n",
      "Epoch 10/100\n",
      "13/13 - 0s - loss: 6.4423 - mae: 1.8765 - 11ms/epoch - 881us/step\n",
      "Epoch 11/100\n",
      "13/13 - 0s - loss: 6.7904 - mae: 1.9002 - 11ms/epoch - 883us/step\n",
      "Epoch 12/100\n",
      "13/13 - 0s - loss: 6.9010 - mae: 1.9814 - 12ms/epoch - 904us/step\n",
      "Epoch 13/100\n",
      "13/13 - 0s - loss: 6.5970 - mae: 1.8313 - 11ms/epoch - 865us/step\n",
      "Epoch 14/100\n",
      "13/13 - 0s - loss: 6.3935 - mae: 1.8274 - 12ms/epoch - 894us/step\n",
      "Epoch 15/100\n",
      "13/13 - 0s - loss: 6.2741 - mae: 1.8515 - 12ms/epoch - 911us/step\n",
      "Epoch 16/100\n",
      "13/13 - 0s - loss: 6.2452 - mae: 1.8422 - 12ms/epoch - 921us/step\n",
      "Epoch 17/100\n",
      "13/13 - 0s - loss: 6.4941 - mae: 1.8745 - 12ms/epoch - 924us/step\n",
      "Epoch 18/100\n",
      "13/13 - 0s - loss: 6.1455 - mae: 1.7983 - 15ms/epoch - 1ms/step\n",
      "Epoch 19/100\n",
      "13/13 - 0s - loss: 5.9398 - mae: 1.7740 - 11ms/epoch - 862us/step\n",
      "Epoch 20/100\n",
      "13/13 - 0s - loss: 5.8910 - mae: 1.7473 - 14ms/epoch - 1ms/step\n",
      "Epoch 21/100\n",
      "13/13 - 0s - loss: 6.0792 - mae: 1.8271 - 12ms/epoch - 944us/step\n",
      "Epoch 22/100\n",
      "13/13 - 0s - loss: 6.0243 - mae: 1.7998 - 12ms/epoch - 891us/step\n",
      "Epoch 23/100\n",
      "13/13 - 0s - loss: 5.8375 - mae: 1.7732 - 11ms/epoch - 881us/step\n",
      "Epoch 24/100\n",
      "13/13 - 0s - loss: 5.6755 - mae: 1.7375 - 11ms/epoch - 879us/step\n",
      "Epoch 25/100\n",
      "13/13 - 0s - loss: 5.8085 - mae: 1.7753 - 12ms/epoch - 950us/step\n",
      "Epoch 26/100\n",
      "13/13 - 0s - loss: 5.7600 - mae: 1.7603 - 12ms/epoch - 915us/step\n",
      "Epoch 27/100\n",
      "13/13 - 0s - loss: 5.6846 - mae: 1.7358 - 11ms/epoch - 877us/step\n",
      "Epoch 28/100\n",
      "13/13 - 0s - loss: 5.8150 - mae: 1.7654 - 12ms/epoch - 930us/step\n",
      "Epoch 29/100\n",
      "13/13 - 0s - loss: 5.7867 - mae: 1.7696 - 12ms/epoch - 888us/step\n",
      "Epoch 30/100\n",
      "13/13 - 0s - loss: 5.8360 - mae: 1.7432 - 12ms/epoch - 913us/step\n",
      "Epoch 31/100\n",
      "13/13 - 0s - loss: 6.0521 - mae: 1.8202 - 12ms/epoch - 957us/step\n",
      "Epoch 32/100\n",
      "13/13 - 0s - loss: 5.6300 - mae: 1.7204 - 12ms/epoch - 914us/step\n",
      "Epoch 33/100\n",
      "13/13 - 0s - loss: 5.5789 - mae: 1.7311 - 12ms/epoch - 928us/step\n",
      "Epoch 34/100\n",
      "13/13 - 0s - loss: 5.6388 - mae: 1.7132 - 12ms/epoch - 921us/step\n",
      "Epoch 35/100\n",
      "13/13 - 0s - loss: 5.7171 - mae: 1.7411 - 11ms/epoch - 858us/step\n",
      "Epoch 36/100\n",
      "13/13 - 0s - loss: 5.6879 - mae: 1.7687 - 12ms/epoch - 897us/step\n",
      "Epoch 37/100\n",
      "13/13 - 0s - loss: 5.3742 - mae: 1.7043 - 11ms/epoch - 877us/step\n",
      "Epoch 38/100\n",
      "13/13 - 0s - loss: 5.4777 - mae: 1.7282 - 12ms/epoch - 907us/step\n",
      "Epoch 39/100\n",
      "13/13 - 0s - loss: 5.7113 - mae: 1.7993 - 11ms/epoch - 843us/step\n",
      "Epoch 40/100\n",
      "13/13 - 0s - loss: 5.4620 - mae: 1.7330 - 12ms/epoch - 932us/step\n",
      "Epoch 41/100\n",
      "13/13 - 0s - loss: 5.4521 - mae: 1.6941 - 12ms/epoch - 885us/step\n",
      "Epoch 42/100\n",
      "13/13 - 0s - loss: 5.4831 - mae: 1.7468 - 12ms/epoch - 904us/step\n",
      "Epoch 43/100\n",
      "13/13 - 0s - loss: 5.6152 - mae: 1.7550 - 11ms/epoch - 871us/step\n",
      "Epoch 44/100\n",
      "13/13 - 0s - loss: 5.4027 - mae: 1.7022 - 12ms/epoch - 905us/step\n",
      "Epoch 45/100\n",
      "13/13 - 0s - loss: 5.1841 - mae: 1.6887 - 12ms/epoch - 912us/step\n",
      "Epoch 46/100\n",
      "13/13 - 0s - loss: 5.3563 - mae: 1.6885 - 11ms/epoch - 881us/step\n",
      "Epoch 47/100\n",
      "13/13 - 0s - loss: 5.2395 - mae: 1.6584 - 12ms/epoch - 899us/step\n",
      "Epoch 48/100\n",
      "13/13 - 0s - loss: 5.1919 - mae: 1.6818 - 11ms/epoch - 871us/step\n",
      "Epoch 49/100\n",
      "13/13 - 0s - loss: 5.1890 - mae: 1.6737 - 12ms/epoch - 922us/step\n",
      "Epoch 50/100\n",
      "13/13 - 0s - loss: 5.6865 - mae: 1.7550 - 12ms/epoch - 913us/step\n",
      "Epoch 51/100\n",
      "13/13 - 0s - loss: 5.6185 - mae: 1.7583 - 12ms/epoch - 931us/step\n",
      "Epoch 52/100\n",
      "13/13 - 0s - loss: 5.3195 - mae: 1.6572 - 11ms/epoch - 853us/step\n",
      "Epoch 53/100\n",
      "13/13 - 0s - loss: 5.3651 - mae: 1.6999 - 12ms/epoch - 919us/step\n",
      "Epoch 54/100\n",
      "13/13 - 0s - loss: 5.1282 - mae: 1.6540 - 12ms/epoch - 935us/step\n",
      "Epoch 55/100\n",
      "13/13 - 0s - loss: 5.3246 - mae: 1.6737 - 12ms/epoch - 935us/step\n",
      "Epoch 56/100\n",
      "13/13 - 0s - loss: 5.2217 - mae: 1.6962 - 11ms/epoch - 834us/step\n",
      "Epoch 57/100\n",
      "13/13 - 0s - loss: 5.1740 - mae: 1.7008 - 11ms/epoch - 821us/step\n",
      "Epoch 58/100\n",
      "13/13 - 0s - loss: 4.8626 - mae: 1.6243 - 11ms/epoch - 883us/step\n",
      "Epoch 59/100\n",
      "13/13 - 0s - loss: 4.9542 - mae: 1.6297 - 12ms/epoch - 906us/step\n",
      "Epoch 60/100\n",
      "13/13 - 0s - loss: 4.9506 - mae: 1.6068 - 11ms/epoch - 883us/step\n",
      "Epoch 61/100\n",
      "13/13 - 0s - loss: 4.9734 - mae: 1.6297 - 11ms/epoch - 870us/step\n",
      "Epoch 62/100\n",
      "13/13 - 0s - loss: 4.7999 - mae: 1.6224 - 13ms/epoch - 1ms/step\n",
      "Epoch 63/100\n",
      "13/13 - 0s - loss: 4.9939 - mae: 1.6245 - 12ms/epoch - 901us/step\n",
      "Epoch 64/100\n",
      "13/13 - 0s - loss: 5.4434 - mae: 1.7162 - 11ms/epoch - 856us/step\n",
      "Epoch 65/100\n",
      "13/13 - 0s - loss: 4.8561 - mae: 1.5853 - 11ms/epoch - 849us/step\n",
      "Epoch 66/100\n",
      "13/13 - 0s - loss: 4.8490 - mae: 1.6204 - 12ms/epoch - 885us/step\n",
      "Epoch 67/100\n",
      "13/13 - 0s - loss: 4.7665 - mae: 1.5861 - 12ms/epoch - 888us/step\n",
      "Epoch 68/100\n",
      "13/13 - 0s - loss: 5.2261 - mae: 1.7342 - 11ms/epoch - 878us/step\n",
      "Epoch 69/100\n",
      "13/13 - 0s - loss: 4.9091 - mae: 1.6410 - 12ms/epoch - 896us/step\n",
      "Epoch 70/100\n",
      "13/13 - 0s - loss: 4.9544 - mae: 1.6694 - 11ms/epoch - 879us/step\n",
      "Epoch 71/100\n",
      "13/13 - 0s - loss: 4.7409 - mae: 1.5856 - 12ms/epoch - 886us/step\n",
      "Epoch 72/100\n",
      "13/13 - 0s - loss: 4.6439 - mae: 1.5895 - 12ms/epoch - 887us/step\n",
      "Epoch 73/100\n",
      "13/13 - 0s - loss: 4.6531 - mae: 1.5848 - 12ms/epoch - 894us/step\n",
      "Epoch 74/100\n",
      "13/13 - 0s - loss: 4.7679 - mae: 1.6102 - 11ms/epoch - 884us/step\n",
      "Epoch 75/100\n",
      "13/13 - 0s - loss: 4.5999 - mae: 1.5626 - 11ms/epoch - 857us/step\n",
      "Epoch 76/100\n",
      "13/13 - 0s - loss: 4.7851 - mae: 1.6024 - 12ms/epoch - 894us/step\n",
      "Epoch 77/100\n",
      "13/13 - 0s - loss: 4.6021 - mae: 1.5744 - 11ms/epoch - 845us/step\n",
      "Epoch 78/100\n",
      "13/13 - 0s - loss: 5.2109 - mae: 1.7051 - 13ms/epoch - 969us/step\n",
      "Epoch 79/100\n",
      "13/13 - 0s - loss: 4.7554 - mae: 1.6005 - 12ms/epoch - 888us/step\n",
      "Epoch 80/100\n",
      "13/13 - 0s - loss: 4.6181 - mae: 1.5915 - 11ms/epoch - 823us/step\n",
      "Epoch 81/100\n",
      "13/13 - 0s - loss: 4.5687 - mae: 1.5975 - 13ms/epoch - 996us/step\n",
      "Epoch 82/100\n",
      "13/13 - 0s - loss: 4.6615 - mae: 1.6360 - 12ms/epoch - 936us/step\n",
      "Epoch 83/100\n",
      "13/13 - 0s - loss: 4.3474 - mae: 1.5126 - 12ms/epoch - 897us/step\n",
      "Epoch 84/100\n",
      "13/13 - 0s - loss: 4.2839 - mae: 1.5143 - 11ms/epoch - 871us/step\n",
      "Epoch 85/100\n",
      "13/13 - 0s - loss: 4.2166 - mae: 1.4954 - 11ms/epoch - 878us/step\n",
      "Epoch 86/100\n",
      "13/13 - 0s - loss: 4.4224 - mae: 1.5137 - 11ms/epoch - 865us/step\n",
      "Epoch 87/100\n",
      "13/13 - 0s - loss: 4.4736 - mae: 1.5479 - 12ms/epoch - 908us/step\n",
      "Epoch 88/100\n",
      "13/13 - 0s - loss: 4.5121 - mae: 1.5786 - 12ms/epoch - 951us/step\n",
      "Epoch 89/100\n",
      "13/13 - 0s - loss: 5.0608 - mae: 1.6530 - 12ms/epoch - 907us/step\n",
      "Epoch 90/100\n",
      "13/13 - 0s - loss: 5.0180 - mae: 1.6537 - 12ms/epoch - 887us/step\n",
      "Epoch 91/100\n",
      "13/13 - 0s - loss: 4.4447 - mae: 1.5405 - 12ms/epoch - 938us/step\n",
      "Epoch 92/100\n",
      "13/13 - 0s - loss: 4.1417 - mae: 1.4778 - 12ms/epoch - 898us/step\n",
      "Epoch 93/100\n",
      "13/13 - 0s - loss: 4.5035 - mae: 1.5422 - 12ms/epoch - 917us/step\n",
      "Epoch 94/100\n",
      "13/13 - 0s - loss: 4.6040 - mae: 1.6189 - 12ms/epoch - 886us/step\n",
      "Epoch 95/100\n",
      "13/13 - 0s - loss: 4.4960 - mae: 1.5756 - 11ms/epoch - 857us/step\n",
      "Epoch 96/100\n",
      "13/13 - 0s - loss: 4.8371 - mae: 1.6078 - 12ms/epoch - 911us/step\n",
      "Epoch 97/100\n",
      "13/13 - 0s - loss: 4.6061 - mae: 1.5613 - 11ms/epoch - 873us/step\n",
      "Epoch 98/100\n",
      "13/13 - 0s - loss: 4.0966 - mae: 1.4935 - 11ms/epoch - 874us/step\n",
      "Epoch 99/100\n",
      "13/13 - 0s - loss: 4.1832 - mae: 1.4854 - 11ms/epoch - 880us/step\n",
      "Epoch 100/100\n",
      "13/13 - 0s - loss: 4.1215 - mae: 1.4807 - 11ms/epoch - 875us/step\n"
     ]
    },
    {
     "data": {
      "text/plain": [
       "<keras.src.callbacks.History at 0x2a00a7a50>"
      ]
     },
     "execution_count": 30,
     "metadata": {},
     "output_type": "execute_result"
    }
   ],
   "source": [
    "# 모델 훈련\n",
    "model.fit(X_train, y_train, epochs=100, batch_size=32, verbose=2)"
   ]
  },
  {
   "cell_type": "code",
   "execution_count": 28,
   "metadata": {
    "colab": {
     "base_uri": "https://localhost:8080/",
     "height": 52
    },
    "executionInfo": {
     "elapsed": 5832,
     "status": "ok",
     "timestamp": 1603615334839,
     "user": {
      "displayName": "오승환",
      "photoUrl": "https://lh3.googleusercontent.com/a-/AOh14GgBRB1w8bMEGhEpsp7aa7I9MQGz2D37o6hJeKeW=s64",
      "userId": "00933700884551564729"
     },
     "user_tz": -540
    },
    "id": "eZlJ0FJCFQ79",
    "outputId": "878d79fd-98ab-4944-9c98-a8a88f12880a"
   },
   "outputs": [
    {
     "name": "stdout",
     "output_type": "stream",
     "text": [
      "4/4 [==============================] - 0s 1ms/step - loss: 11.4781 - mae: 2.4332\n"
     ]
    },
    {
     "data": {
      "text/plain": [
       "[11.478050231933594, 2.4332005977630615]"
      ]
     },
     "execution_count": 28,
     "metadata": {},
     "output_type": "execute_result"
    }
   ],
   "source": [
    "# 평가\n",
    "model.evaluate(X_test, y_test)"
   ]
  },
  {
   "cell_type": "markdown",
   "metadata": {
    "id": "ygJeT6fB7mh6"
   },
   "source": [
    "# 교차 검증"
   ]
  },
  {
   "cell_type": "code",
   "execution_count": 31,
   "metadata": {
    "colab": {
     "base_uri": "https://localhost:8080/",
     "height": 1000
    },
    "executionInfo": {
     "elapsed": 13110,
     "status": "ok",
     "timestamp": 1603615342133,
     "user": {
      "displayName": "오승환",
      "photoUrl": "https://lh3.googleusercontent.com/a-/AOh14GgBRB1w8bMEGhEpsp7aa7I9MQGz2D37o6hJeKeW=s64",
      "userId": "00933700884551564729"
     },
     "user_tz": -540
    },
    "id": "SUcmyJzK8Zw3",
    "outputId": "4835a120-b949-43d2-8e3e-a5ba45851ac3"
   },
   "outputs": [
    {
     "name": "stdout",
     "output_type": "stream",
     "text": [
      "Epoch 1/200\n",
      "10/10 - 0s - loss: 591.5268 - mae: 22.5056 - val_loss: 563.0197 - val_mae: 21.8586 - 215ms/epoch - 22ms/step\n",
      "Epoch 2/200\n",
      "10/10 - 0s - loss: 582.7471 - mae: 22.3059 - val_loss: 553.2139 - val_mae: 21.6268 - 20ms/epoch - 2ms/step\n",
      "Epoch 3/200\n",
      "10/10 - 0s - loss: 568.5567 - mae: 21.9743 - val_loss: 531.8295 - val_mae: 21.1061 - 20ms/epoch - 2ms/step\n",
      "Epoch 4/200\n",
      "10/10 - 0s - loss: 534.0370 - mae: 21.1390 - val_loss: 478.3812 - val_mae: 19.7363 - 18ms/epoch - 2ms/step\n",
      "Epoch 5/200\n",
      "10/10 - 0s - loss: 454.5973 - mae: 19.0705 - val_loss: 367.0314 - val_mae: 16.4801 - 20ms/epoch - 2ms/step\n",
      "Epoch 6/200\n",
      "10/10 - 0s - loss: 311.4527 - mae: 14.7415 - val_loss: 200.9865 - val_mae: 11.0508 - 18ms/epoch - 2ms/step\n",
      "Epoch 7/200\n",
      "10/10 - 0s - loss: 156.0384 - mae: 9.8061 - val_loss: 139.5703 - val_mae: 9.3490 - 19ms/epoch - 2ms/step\n",
      "Epoch 8/200\n",
      "10/10 - 0s - loss: 146.5285 - mae: 9.5798 - val_loss: 124.2885 - val_mae: 8.8578 - 20ms/epoch - 2ms/step\n",
      "Epoch 9/200\n",
      "10/10 - 0s - loss: 113.9440 - mae: 8.2157 - val_loss: 105.2080 - val_mae: 7.7359 - 19ms/epoch - 2ms/step\n",
      "Epoch 10/200\n",
      "10/10 - 0s - loss: 105.6362 - mae: 7.6884 - val_loss: 92.2168 - val_mae: 7.1524 - 20ms/epoch - 2ms/step\n",
      "Epoch 11/200\n",
      "10/10 - 0s - loss: 92.2397 - mae: 7.2236 - val_loss: 80.3059 - val_mae: 7.0239 - 21ms/epoch - 2ms/step\n",
      "Epoch 12/200\n",
      "10/10 - 0s - loss: 81.8932 - mae: 6.7858 - val_loss: 69.7355 - val_mae: 6.3546 - 21ms/epoch - 2ms/step\n",
      "Epoch 13/200\n",
      "10/10 - 0s - loss: 73.1874 - mae: 6.2755 - val_loss: 61.5202 - val_mae: 5.8214 - 22ms/epoch - 2ms/step\n",
      "Epoch 14/200\n",
      "10/10 - 0s - loss: 65.9532 - mae: 5.8164 - val_loss: 55.4178 - val_mae: 5.3408 - 21ms/epoch - 2ms/step\n",
      "Epoch 15/200\n",
      "10/10 - 0s - loss: 60.4157 - mae: 5.4754 - val_loss: 50.2821 - val_mae: 5.0825 - 22ms/epoch - 2ms/step\n",
      "Epoch 16/200\n",
      "10/10 - 0s - loss: 56.3542 - mae: 5.4212 - val_loss: 46.6340 - val_mae: 4.8602 - 20ms/epoch - 2ms/step\n",
      "Epoch 17/200\n",
      "10/10 - 0s - loss: 53.5321 - mae: 5.1262 - val_loss: 44.6247 - val_mae: 4.5192 - 20ms/epoch - 2ms/step\n",
      "Epoch 18/200\n",
      "10/10 - 0s - loss: 50.5369 - mae: 5.0411 - val_loss: 42.2309 - val_mae: 4.4380 - 22ms/epoch - 2ms/step\n",
      "Epoch 19/200\n",
      "10/10 - 0s - loss: 48.1528 - mae: 5.0146 - val_loss: 40.4366 - val_mae: 4.3526 - 22ms/epoch - 2ms/step\n",
      "Epoch 20/200\n",
      "10/10 - 0s - loss: 45.7955 - mae: 4.8113 - val_loss: 38.9366 - val_mae: 4.1303 - 21ms/epoch - 2ms/step\n",
      "Epoch 21/200\n",
      "10/10 - 0s - loss: 43.7831 - mae: 4.6826 - val_loss: 37.0084 - val_mae: 4.1225 - 20ms/epoch - 2ms/step\n",
      "Epoch 22/200\n",
      "10/10 - 0s - loss: 41.5010 - mae: 4.6395 - val_loss: 35.4464 - val_mae: 4.0011 - 20ms/epoch - 2ms/step\n",
      "Epoch 23/200\n",
      "10/10 - 0s - loss: 39.7442 - mae: 4.4532 - val_loss: 34.0555 - val_mae: 3.8935 - 22ms/epoch - 2ms/step\n",
      "Epoch 24/200\n",
      "10/10 - 0s - loss: 38.0658 - mae: 4.3288 - val_loss: 32.4749 - val_mae: 3.7983 - 22ms/epoch - 2ms/step\n",
      "Epoch 25/200\n",
      "10/10 - 0s - loss: 36.0297 - mae: 4.3465 - val_loss: 30.7576 - val_mae: 3.7977 - 20ms/epoch - 2ms/step\n",
      "Epoch 26/200\n",
      "10/10 - 0s - loss: 33.9419 - mae: 4.1842 - val_loss: 29.5743 - val_mae: 3.5937 - 21ms/epoch - 2ms/step\n",
      "Epoch 27/200\n",
      "10/10 - 0s - loss: 32.5251 - mae: 3.9513 - val_loss: 28.1565 - val_mae: 3.5415 - 19ms/epoch - 2ms/step\n",
      "Epoch 28/200\n",
      "10/10 - 0s - loss: 30.7232 - mae: 3.9874 - val_loss: 26.8077 - val_mae: 3.4839 - 19ms/epoch - 2ms/step\n",
      "Epoch 29/200\n",
      "10/10 - 0s - loss: 29.0280 - mae: 3.8043 - val_loss: 25.7313 - val_mae: 3.3701 - 21ms/epoch - 2ms/step\n",
      "Epoch 30/200\n",
      "10/10 - 0s - loss: 27.6248 - mae: 3.6687 - val_loss: 24.5449 - val_mae: 3.3176 - 20ms/epoch - 2ms/step\n",
      "Epoch 31/200\n",
      "10/10 - 0s - loss: 26.2142 - mae: 3.5818 - val_loss: 23.6123 - val_mae: 3.2474 - 22ms/epoch - 2ms/step\n",
      "Epoch 32/200\n",
      "10/10 - 0s - loss: 25.1828 - mae: 3.5266 - val_loss: 22.6697 - val_mae: 3.2149 - 20ms/epoch - 2ms/step\n",
      "Epoch 33/200\n",
      "10/10 - 0s - loss: 24.1159 - mae: 3.3806 - val_loss: 22.1095 - val_mae: 3.1353 - 20ms/epoch - 2ms/step\n",
      "Epoch 34/200\n",
      "10/10 - 0s - loss: 23.8398 - mae: 3.4002 - val_loss: 21.4498 - val_mae: 3.0885 - 21ms/epoch - 2ms/step\n",
      "Epoch 35/200\n",
      "10/10 - 0s - loss: 22.4901 - mae: 3.1664 - val_loss: 20.8192 - val_mae: 3.0433 - 21ms/epoch - 2ms/step\n",
      "Epoch 36/200\n",
      "10/10 - 0s - loss: 21.6709 - mae: 3.1523 - val_loss: 20.2723 - val_mae: 3.1164 - 21ms/epoch - 2ms/step\n",
      "Epoch 37/200\n",
      "10/10 - 0s - loss: 22.2014 - mae: 3.2109 - val_loss: 19.9657 - val_mae: 2.9998 - 19ms/epoch - 2ms/step\n",
      "Epoch 38/200\n",
      "10/10 - 0s - loss: 21.1239 - mae: 3.1621 - val_loss: 19.5584 - val_mae: 3.0431 - 20ms/epoch - 2ms/step\n",
      "Epoch 39/200\n",
      "10/10 - 0s - loss: 21.0992 - mae: 3.0560 - val_loss: 19.3558 - val_mae: 3.0249 - 22ms/epoch - 2ms/step\n",
      "Epoch 40/200\n",
      "10/10 - 0s - loss: 20.8739 - mae: 3.1243 - val_loss: 19.4174 - val_mae: 3.0000 - 22ms/epoch - 2ms/step\n",
      "Epoch 41/200\n",
      "10/10 - 0s - loss: 20.2542 - mae: 2.9785 - val_loss: 18.9589 - val_mae: 3.0058 - 21ms/epoch - 2ms/step\n",
      "Epoch 42/200\n",
      "10/10 - 0s - loss: 19.7259 - mae: 2.9444 - val_loss: 18.8027 - val_mae: 3.0012 - 20ms/epoch - 2ms/step\n",
      "Epoch 43/200\n",
      "10/10 - 0s - loss: 19.7117 - mae: 3.0380 - val_loss: 18.7287 - val_mae: 2.9763 - 20ms/epoch - 2ms/step\n",
      "Epoch 44/200\n",
      "10/10 - 0s - loss: 19.2983 - mae: 2.9367 - val_loss: 18.5908 - val_mae: 2.9632 - 21ms/epoch - 2ms/step\n",
      "Epoch 45/200\n",
      "10/10 - 0s - loss: 19.2636 - mae: 2.9228 - val_loss: 18.4738 - val_mae: 2.9565 - 21ms/epoch - 2ms/step\n",
      "Epoch 46/200\n",
      "10/10 - 0s - loss: 19.0990 - mae: 2.9110 - val_loss: 18.2906 - val_mae: 2.9530 - 22ms/epoch - 2ms/step\n",
      "Epoch 47/200\n",
      "10/10 - 0s - loss: 19.0617 - mae: 2.9041 - val_loss: 18.1745 - val_mae: 2.9396 - 20ms/epoch - 2ms/step\n",
      "Epoch 48/200\n",
      "10/10 - 0s - loss: 19.0323 - mae: 2.9590 - val_loss: 18.4125 - val_mae: 2.9297 - 20ms/epoch - 2ms/step\n",
      "Epoch 49/200\n",
      "10/10 - 0s - loss: 19.0171 - mae: 2.8973 - val_loss: 18.2083 - val_mae: 2.9288 - 23ms/epoch - 2ms/step\n",
      "Epoch 50/200\n",
      "10/10 - 0s - loss: 18.9999 - mae: 2.9342 - val_loss: 18.0456 - val_mae: 2.9699 - 21ms/epoch - 2ms/step\n",
      "Epoch 51/200\n",
      "10/10 - 0s - loss: 18.6553 - mae: 2.8725 - val_loss: 17.6908 - val_mae: 2.8862 - 21ms/epoch - 2ms/step\n",
      "Epoch 52/200\n",
      "10/10 - 0s - loss: 18.4177 - mae: 2.8913 - val_loss: 17.6929 - val_mae: 2.8820 - 20ms/epoch - 2ms/step\n",
      "Epoch 53/200\n",
      "10/10 - 0s - loss: 18.1133 - mae: 2.8555 - val_loss: 17.4448 - val_mae: 2.8648 - 25ms/epoch - 2ms/step\n",
      "Epoch 54/200\n",
      "10/10 - 0s - loss: 18.0769 - mae: 2.8169 - val_loss: 17.3007 - val_mae: 2.8570 - 21ms/epoch - 2ms/step\n",
      "Epoch 55/200\n",
      "10/10 - 0s - loss: 17.8475 - mae: 2.8555 - val_loss: 17.3892 - val_mae: 2.8466 - 19ms/epoch - 2ms/step\n",
      "Epoch 56/200\n",
      "10/10 - 0s - loss: 17.6416 - mae: 2.7801 - val_loss: 17.4037 - val_mae: 2.8339 - 21ms/epoch - 2ms/step\n",
      "Epoch 57/200\n",
      "10/10 - 0s - loss: 17.6284 - mae: 2.7765 - val_loss: 17.1099 - val_mae: 2.8175 - 20ms/epoch - 2ms/step\n",
      "Epoch 58/200\n",
      "10/10 - 0s - loss: 17.8763 - mae: 2.8176 - val_loss: 17.2286 - val_mae: 2.7897 - 19ms/epoch - 2ms/step\n",
      "Epoch 59/200\n",
      "10/10 - 0s - loss: 17.2919 - mae: 2.7360 - val_loss: 16.9090 - val_mae: 2.8254 - 21ms/epoch - 2ms/step\n",
      "Epoch 60/200\n",
      "10/10 - 0s - loss: 17.0712 - mae: 2.7615 - val_loss: 16.8953 - val_mae: 2.8006 - 21ms/epoch - 2ms/step\n",
      "Epoch 61/200\n",
      "10/10 - 0s - loss: 17.0156 - mae: 2.7530 - val_loss: 16.8185 - val_mae: 2.7788 - 21ms/epoch - 2ms/step\n",
      "Epoch 62/200\n",
      "10/10 - 0s - loss: 16.8717 - mae: 2.7049 - val_loss: 16.7091 - val_mae: 2.8345 - 22ms/epoch - 2ms/step\n",
      "Epoch 63/200\n",
      "10/10 - 0s - loss: 17.6731 - mae: 2.9368 - val_loss: 17.7480 - val_mae: 2.8519 - 22ms/epoch - 2ms/step\n",
      "Epoch 64/200\n",
      "10/10 - 0s - loss: 18.0060 - mae: 2.8714 - val_loss: 17.1613 - val_mae: 2.9745 - 20ms/epoch - 2ms/step\n",
      "Epoch 65/200\n",
      "10/10 - 0s - loss: 17.5428 - mae: 2.8825 - val_loss: 17.6483 - val_mae: 2.8261 - 21ms/epoch - 2ms/step\n",
      "Epoch 66/200\n",
      "10/10 - 0s - loss: 17.1907 - mae: 2.7521 - val_loss: 17.2122 - val_mae: 2.9679 - 20ms/epoch - 2ms/step\n",
      "Epoch 67/200\n",
      "10/10 - 0s - loss: 17.6884 - mae: 2.8283 - val_loss: 16.5995 - val_mae: 2.7243 - 21ms/epoch - 2ms/step\n",
      "Epoch 68/200\n",
      "10/10 - 0s - loss: 17.1670 - mae: 2.7972 - val_loss: 16.3509 - val_mae: 2.7416 - 20ms/epoch - 2ms/step\n",
      "Epoch 69/200\n",
      "10/10 - 0s - loss: 16.6474 - mae: 2.6861 - val_loss: 16.2960 - val_mae: 2.8059 - 20ms/epoch - 2ms/step\n",
      "Epoch 70/200\n",
      "10/10 - 0s - loss: 16.2330 - mae: 2.7464 - val_loss: 16.1836 - val_mae: 2.7262 - 21ms/epoch - 2ms/step\n",
      "Epoch 71/200\n",
      "10/10 - 0s - loss: 15.9192 - mae: 2.6361 - val_loss: 16.0155 - val_mae: 2.7620 - 21ms/epoch - 2ms/step\n"
     ]
    },
    {
     "name": "stdout",
     "output_type": "stream",
     "text": [
      "Epoch 72/200\n",
      "10/10 - 0s - loss: 15.9219 - mae: 2.6467 - val_loss: 15.9592 - val_mae: 2.7027 - 20ms/epoch - 2ms/step\n",
      "Epoch 73/200\n",
      "10/10 - 0s - loss: 15.6135 - mae: 2.6228 - val_loss: 15.8143 - val_mae: 2.7094 - 20ms/epoch - 2ms/step\n",
      "Epoch 74/200\n",
      "10/10 - 0s - loss: 15.7558 - mae: 2.6827 - val_loss: 15.8556 - val_mae: 2.7303 - 19ms/epoch - 2ms/step\n",
      "Epoch 75/200\n",
      "10/10 - 0s - loss: 15.5802 - mae: 2.5981 - val_loss: 15.6916 - val_mae: 2.7064 - 20ms/epoch - 2ms/step\n",
      "Epoch 76/200\n",
      "10/10 - 0s - loss: 15.7216 - mae: 2.6157 - val_loss: 15.6094 - val_mae: 2.6570 - 20ms/epoch - 2ms/step\n",
      "Epoch 77/200\n",
      "10/10 - 0s - loss: 15.6024 - mae: 2.6961 - val_loss: 15.6120 - val_mae: 2.6613 - 20ms/epoch - 2ms/step\n",
      "Epoch 78/200\n",
      "10/10 - 0s - loss: 15.2964 - mae: 2.5735 - val_loss: 15.4691 - val_mae: 2.6850 - 21ms/epoch - 2ms/step\n",
      "Epoch 79/200\n",
      "10/10 - 0s - loss: 15.0107 - mae: 2.6050 - val_loss: 15.3974 - val_mae: 2.6590 - 22ms/epoch - 2ms/step\n",
      "Epoch 80/200\n",
      "10/10 - 0s - loss: 15.0040 - mae: 2.5361 - val_loss: 15.3079 - val_mae: 2.6522 - 20ms/epoch - 2ms/step\n",
      "Epoch 81/200\n",
      "10/10 - 0s - loss: 15.0119 - mae: 2.6271 - val_loss: 15.6813 - val_mae: 2.6362 - 21ms/epoch - 2ms/step\n",
      "Epoch 82/200\n",
      "10/10 - 0s - loss: 15.2613 - mae: 2.5867 - val_loss: 15.2151 - val_mae: 2.6682 - 21ms/epoch - 2ms/step\n",
      "Epoch 83/200\n",
      "10/10 - 0s - loss: 14.6475 - mae: 2.5362 - val_loss: 15.1441 - val_mae: 2.6082 - 21ms/epoch - 2ms/step\n",
      "Epoch 84/200\n",
      "10/10 - 0s - loss: 14.6243 - mae: 2.5873 - val_loss: 15.1364 - val_mae: 2.6060 - 21ms/epoch - 2ms/step\n",
      "Epoch 85/200\n",
      "10/10 - 0s - loss: 14.5346 - mae: 2.5188 - val_loss: 14.8681 - val_mae: 2.5987 - 21ms/epoch - 2ms/step\n",
      "Epoch 86/200\n",
      "10/10 - 0s - loss: 14.7263 - mae: 2.5985 - val_loss: 15.1644 - val_mae: 2.6012 - 20ms/epoch - 2ms/step\n",
      "Epoch 87/200\n",
      "10/10 - 0s - loss: 14.3263 - mae: 2.4978 - val_loss: 14.9206 - val_mae: 2.6545 - 20ms/epoch - 2ms/step\n",
      "Epoch 88/200\n",
      "10/10 - 0s - loss: 14.4170 - mae: 2.5335 - val_loss: 15.0759 - val_mae: 2.5829 - 19ms/epoch - 2ms/step\n",
      "Epoch 89/200\n",
      "10/10 - 0s - loss: 14.2789 - mae: 2.5092 - val_loss: 14.7473 - val_mae: 2.5875 - 19ms/epoch - 2ms/step\n",
      "Epoch 90/200\n",
      "10/10 - 0s - loss: 13.8929 - mae: 2.4769 - val_loss: 14.6738 - val_mae: 2.5838 - 20ms/epoch - 2ms/step\n",
      "Epoch 91/200\n",
      "10/10 - 0s - loss: 14.0911 - mae: 2.4565 - val_loss: 14.5841 - val_mae: 2.5690 - 20ms/epoch - 2ms/step\n",
      "Epoch 92/200\n",
      "10/10 - 0s - loss: 13.7529 - mae: 2.5447 - val_loss: 15.0302 - val_mae: 2.5820 - 20ms/epoch - 2ms/step\n",
      "Epoch 93/200\n",
      "10/10 - 0s - loss: 13.9792 - mae: 2.5085 - val_loss: 14.6262 - val_mae: 2.6483 - 20ms/epoch - 2ms/step\n",
      "Epoch 94/200\n",
      "10/10 - 0s - loss: 13.7022 - mae: 2.4643 - val_loss: 14.6338 - val_mae: 2.5746 - 22ms/epoch - 2ms/step\n",
      "Epoch 95/200\n",
      "10/10 - 0s - loss: 13.2941 - mae: 2.4410 - val_loss: 14.3675 - val_mae: 2.5750 - 21ms/epoch - 2ms/step\n",
      "Epoch 96/200\n",
      "10/10 - 0s - loss: 13.3512 - mae: 2.4371 - val_loss: 14.3904 - val_mae: 2.5483 - 19ms/epoch - 2ms/step\n",
      "Epoch 97/200\n",
      "10/10 - 0s - loss: 13.6066 - mae: 2.5563 - val_loss: 14.6386 - val_mae: 2.5602 - 20ms/epoch - 2ms/step\n",
      "Epoch 98/200\n",
      "10/10 - 0s - loss: 13.4564 - mae: 2.4665 - val_loss: 14.2105 - val_mae: 2.5885 - 23ms/epoch - 2ms/step\n",
      "Epoch 99/200\n",
      "10/10 - 0s - loss: 13.0398 - mae: 2.4642 - val_loss: 15.1094 - val_mae: 2.5849 - 22ms/epoch - 2ms/step\n",
      "Epoch 100/200\n",
      "10/10 - 0s - loss: 13.5801 - mae: 2.5147 - val_loss: 14.0685 - val_mae: 2.5354 - 21ms/epoch - 2ms/step\n",
      "Epoch 101/200\n",
      "10/10 - 0s - loss: 13.3437 - mae: 2.4210 - val_loss: 14.0739 - val_mae: 2.5692 - 21ms/epoch - 2ms/step\n",
      "Epoch 102/200\n",
      "10/10 - 0s - loss: 13.1043 - mae: 2.4577 - val_loss: 13.9614 - val_mae: 2.5407 - 21ms/epoch - 2ms/step\n",
      "Epoch 103/200\n",
      "10/10 - 0s - loss: 13.2401 - mae: 2.4676 - val_loss: 14.6481 - val_mae: 2.5464 - 19ms/epoch - 2ms/step\n",
      "Epoch 104/200\n",
      "10/10 - 0s - loss: 13.4979 - mae: 2.4870 - val_loss: 14.1641 - val_mae: 2.5329 - 21ms/epoch - 2ms/step\n",
      "Epoch 105/200\n",
      "10/10 - 0s - loss: 13.1900 - mae: 2.4566 - val_loss: 14.0298 - val_mae: 2.6322 - 20ms/epoch - 2ms/step\n",
      "Epoch 106/200\n",
      "10/10 - 0s - loss: 12.4437 - mae: 2.4187 - val_loss: 14.9849 - val_mae: 2.5611 - 22ms/epoch - 2ms/step\n",
      "Epoch 107/200\n",
      "10/10 - 0s - loss: 12.7273 - mae: 2.3895 - val_loss: 14.1763 - val_mae: 2.6601 - 22ms/epoch - 2ms/step\n",
      "Epoch 108/200\n",
      "10/10 - 0s - loss: 12.8291 - mae: 2.4515 - val_loss: 13.8405 - val_mae: 2.4906 - 20ms/epoch - 2ms/step\n",
      "Epoch 109/200\n",
      "10/10 - 0s - loss: 12.2646 - mae: 2.4017 - val_loss: 13.6932 - val_mae: 2.5191 - 19ms/epoch - 2ms/step\n",
      "Epoch 110/200\n",
      "10/10 - 0s - loss: 12.0931 - mae: 2.3436 - val_loss: 13.5857 - val_mae: 2.5139 - 22ms/epoch - 2ms/step\n",
      "Epoch 111/200\n",
      "10/10 - 0s - loss: 12.0536 - mae: 2.3405 - val_loss: 13.7210 - val_mae: 2.4891 - 21ms/epoch - 2ms/step\n",
      "Epoch 112/200\n",
      "10/10 - 0s - loss: 11.9732 - mae: 2.3510 - val_loss: 13.4558 - val_mae: 2.5352 - 22ms/epoch - 2ms/step\n",
      "Epoch 113/200\n",
      "10/10 - 0s - loss: 12.4008 - mae: 2.3730 - val_loss: 13.5161 - val_mae: 2.5852 - 19ms/epoch - 2ms/step\n",
      "Epoch 114/200\n",
      "10/10 - 0s - loss: 12.0750 - mae: 2.3678 - val_loss: 13.3460 - val_mae: 2.5076 - 20ms/epoch - 2ms/step\n",
      "Epoch 115/200\n",
      "10/10 - 0s - loss: 12.1354 - mae: 2.3692 - val_loss: 13.5377 - val_mae: 2.4893 - 24ms/epoch - 2ms/step\n",
      "Epoch 116/200\n",
      "10/10 - 0s - loss: 11.5894 - mae: 2.3093 - val_loss: 13.2229 - val_mae: 2.5039 - 20ms/epoch - 2ms/step\n",
      "Epoch 117/200\n",
      "10/10 - 0s - loss: 11.4401 - mae: 2.3155 - val_loss: 13.2727 - val_mae: 2.4743 - 19ms/epoch - 2ms/step\n",
      "Epoch 118/200\n",
      "10/10 - 0s - loss: 11.7167 - mae: 2.3557 - val_loss: 13.8411 - val_mae: 2.4978 - 21ms/epoch - 2ms/step\n",
      "Epoch 119/200\n",
      "10/10 - 0s - loss: 11.9912 - mae: 2.4009 - val_loss: 13.2845 - val_mae: 2.5077 - 20ms/epoch - 2ms/step\n",
      "Epoch 120/200\n",
      "10/10 - 0s - loss: 11.2096 - mae: 2.2850 - val_loss: 13.3441 - val_mae: 2.4558 - 20ms/epoch - 2ms/step\n",
      "Epoch 121/200\n",
      "10/10 - 0s - loss: 11.1110 - mae: 2.2763 - val_loss: 13.7248 - val_mae: 2.6596 - 20ms/epoch - 2ms/step\n",
      "Epoch 122/200\n",
      "10/10 - 0s - loss: 11.4747 - mae: 2.3358 - val_loss: 13.4798 - val_mae: 2.4713 - 20ms/epoch - 2ms/step\n",
      "Epoch 123/200\n",
      "10/10 - 0s - loss: 11.1934 - mae: 2.3171 - val_loss: 13.0883 - val_mae: 2.4482 - 20ms/epoch - 2ms/step\n",
      "Epoch 124/200\n",
      "10/10 - 0s - loss: 11.0025 - mae: 2.2646 - val_loss: 13.0429 - val_mae: 2.5468 - 20ms/epoch - 2ms/step\n",
      "Epoch 125/200\n",
      "10/10 - 0s - loss: 11.1354 - mae: 2.3610 - val_loss: 13.2588 - val_mae: 2.4725 - 21ms/epoch - 2ms/step\n",
      "Epoch 126/200\n",
      "10/10 - 0s - loss: 11.0144 - mae: 2.3070 - val_loss: 13.0050 - val_mae: 2.4448 - 21ms/epoch - 2ms/step\n",
      "Epoch 127/200\n",
      "10/10 - 0s - loss: 10.6313 - mae: 2.2472 - val_loss: 12.7627 - val_mae: 2.4669 - 21ms/epoch - 2ms/step\n",
      "Epoch 128/200\n",
      "10/10 - 0s - loss: 10.6276 - mae: 2.2582 - val_loss: 13.2393 - val_mae: 2.4612 - 19ms/epoch - 2ms/step\n",
      "Epoch 129/200\n",
      "10/10 - 0s - loss: 11.1110 - mae: 2.3030 - val_loss: 12.8608 - val_mae: 2.5154 - 21ms/epoch - 2ms/step\n",
      "Epoch 130/200\n",
      "10/10 - 0s - loss: 10.6987 - mae: 2.2869 - val_loss: 12.9006 - val_mae: 2.4280 - 19ms/epoch - 2ms/step\n",
      "Epoch 131/200\n",
      "10/10 - 0s - loss: 10.6066 - mae: 2.2710 - val_loss: 12.9957 - val_mae: 2.4458 - 19ms/epoch - 2ms/step\n",
      "Epoch 132/200\n",
      "10/10 - 0s - loss: 10.4686 - mae: 2.2543 - val_loss: 12.7043 - val_mae: 2.4921 - 20ms/epoch - 2ms/step\n",
      "Epoch 133/200\n",
      "10/10 - 0s - loss: 10.3515 - mae: 2.2206 - val_loss: 12.6355 - val_mae: 2.4499 - 20ms/epoch - 2ms/step\n",
      "Epoch 134/200\n",
      "10/10 - 0s - loss: 10.1914 - mae: 2.2307 - val_loss: 12.5924 - val_mae: 2.4640 - 21ms/epoch - 2ms/step\n",
      "Epoch 135/200\n",
      "10/10 - 0s - loss: 10.1276 - mae: 2.1946 - val_loss: 12.6900 - val_mae: 2.4426 - 20ms/epoch - 2ms/step\n",
      "Epoch 136/200\n",
      "10/10 - 0s - loss: 10.2705 - mae: 2.2428 - val_loss: 12.5694 - val_mae: 2.5218 - 20ms/epoch - 2ms/step\n",
      "Epoch 137/200\n",
      "10/10 - 0s - loss: 10.0216 - mae: 2.2136 - val_loss: 12.6674 - val_mae: 2.4447 - 21ms/epoch - 2ms/step\n",
      "Epoch 138/200\n",
      "10/10 - 0s - loss: 9.9270 - mae: 2.2036 - val_loss: 12.5809 - val_mae: 2.4404 - 20ms/epoch - 2ms/step\n",
      "Epoch 139/200\n",
      "10/10 - 0s - loss: 9.9281 - mae: 2.1722 - val_loss: 12.4896 - val_mae: 2.4835 - 25ms/epoch - 2ms/step\n",
      "Epoch 140/200\n",
      "10/10 - 0s - loss: 10.7918 - mae: 2.3648 - val_loss: 14.2817 - val_mae: 2.5673 - 21ms/epoch - 2ms/step\n",
      "Epoch 141/200\n",
      "10/10 - 0s - loss: 10.4657 - mae: 2.2491 - val_loss: 12.3885 - val_mae: 2.5074 - 21ms/epoch - 2ms/step\n",
      "Epoch 142/200\n",
      "10/10 - 0s - loss: 9.9323 - mae: 2.2354 - val_loss: 13.2166 - val_mae: 2.4492 - 21ms/epoch - 2ms/step\n"
     ]
    },
    {
     "name": "stdout",
     "output_type": "stream",
     "text": [
      "Epoch 143/200\n",
      "10/10 - 0s - loss: 9.8545 - mae: 2.1981 - val_loss: 12.8002 - val_mae: 2.5583 - 21ms/epoch - 2ms/step\n",
      "Epoch 144/200\n",
      "10/10 - 0s - loss: 9.7461 - mae: 2.2251 - val_loss: 12.6439 - val_mae: 2.4497 - 19ms/epoch - 2ms/step\n",
      "Epoch 145/200\n",
      "10/10 - 0s - loss: 9.9621 - mae: 2.2138 - val_loss: 12.6102 - val_mae: 2.4392 - 22ms/epoch - 2ms/step\n",
      "Epoch 146/200\n",
      "10/10 - 0s - loss: 9.8835 - mae: 2.1809 - val_loss: 12.2005 - val_mae: 2.4340 - 21ms/epoch - 2ms/step\n",
      "Epoch 147/200\n",
      "10/10 - 0s - loss: 10.0441 - mae: 2.2490 - val_loss: 12.9211 - val_mae: 2.5939 - 19ms/epoch - 2ms/step\n",
      "Epoch 148/200\n",
      "10/10 - 0s - loss: 9.6227 - mae: 2.2374 - val_loss: 13.2886 - val_mae: 2.4797 - 21ms/epoch - 2ms/step\n",
      "Epoch 149/200\n",
      "10/10 - 0s - loss: 9.1829 - mae: 2.1426 - val_loss: 13.1866 - val_mae: 2.6584 - 22ms/epoch - 2ms/step\n",
      "Epoch 150/200\n",
      "10/10 - 0s - loss: 10.0510 - mae: 2.3004 - val_loss: 13.9311 - val_mae: 2.5217 - 20ms/epoch - 2ms/step\n",
      "Epoch 151/200\n",
      "10/10 - 0s - loss: 9.7798 - mae: 2.3172 - val_loss: 12.0800 - val_mae: 2.4350 - 24ms/epoch - 2ms/step\n",
      "Epoch 152/200\n",
      "10/10 - 0s - loss: 9.7524 - mae: 2.2199 - val_loss: 12.3828 - val_mae: 2.4951 - 20ms/epoch - 2ms/step\n",
      "Epoch 153/200\n",
      "10/10 - 0s - loss: 9.3678 - mae: 2.2098 - val_loss: 12.5911 - val_mae: 2.4172 - 20ms/epoch - 2ms/step\n",
      "Epoch 154/200\n",
      "10/10 - 0s - loss: 10.3305 - mae: 2.3157 - val_loss: 13.2314 - val_mae: 2.5260 - 23ms/epoch - 2ms/step\n",
      "Epoch 155/200\n",
      "10/10 - 0s - loss: 9.4596 - mae: 2.2527 - val_loss: 12.6534 - val_mae: 2.5749 - 20ms/epoch - 2ms/step\n",
      "Epoch 156/200\n",
      "10/10 - 0s - loss: 9.1191 - mae: 2.1627 - val_loss: 12.0064 - val_mae: 2.4128 - 20ms/epoch - 2ms/step\n",
      "Epoch 157/200\n",
      "10/10 - 0s - loss: 8.8273 - mae: 2.1441 - val_loss: 12.2786 - val_mae: 2.4147 - 19ms/epoch - 2ms/step\n",
      "Epoch 158/200\n",
      "10/10 - 0s - loss: 8.8953 - mae: 2.1210 - val_loss: 11.9326 - val_mae: 2.4427 - 19ms/epoch - 2ms/step\n",
      "Epoch 159/200\n",
      "10/10 - 0s - loss: 9.0459 - mae: 2.1362 - val_loss: 12.0836 - val_mae: 2.4603 - 19ms/epoch - 2ms/step\n",
      "Epoch 160/200\n",
      "10/10 - 0s - loss: 8.8325 - mae: 2.1167 - val_loss: 11.8140 - val_mae: 2.4441 - 20ms/epoch - 2ms/step\n",
      "Epoch 161/200\n",
      "10/10 - 0s - loss: 8.7243 - mae: 2.1367 - val_loss: 12.2232 - val_mae: 2.4059 - 20ms/epoch - 2ms/step\n",
      "Epoch 162/200\n",
      "10/10 - 0s - loss: 8.6644 - mae: 2.1569 - val_loss: 11.9250 - val_mae: 2.4513 - 20ms/epoch - 2ms/step\n",
      "Epoch 163/200\n",
      "10/10 - 0s - loss: 8.6662 - mae: 2.1015 - val_loss: 11.9027 - val_mae: 2.4562 - 21ms/epoch - 2ms/step\n",
      "Epoch 164/200\n",
      "10/10 - 0s - loss: 9.0147 - mae: 2.1932 - val_loss: 13.7941 - val_mae: 2.5302 - 20ms/epoch - 2ms/step\n",
      "Epoch 165/200\n",
      "10/10 - 0s - loss: 9.0367 - mae: 2.2274 - val_loss: 12.1621 - val_mae: 2.4736 - 20ms/epoch - 2ms/step\n",
      "Epoch 166/200\n",
      "10/10 - 0s - loss: 8.7115 - mae: 2.1371 - val_loss: 11.6826 - val_mae: 2.4142 - 20ms/epoch - 2ms/step\n",
      "Epoch 167/200\n",
      "10/10 - 0s - loss: 8.1750 - mae: 2.0591 - val_loss: 11.7186 - val_mae: 2.3779 - 21ms/epoch - 2ms/step\n",
      "Epoch 168/200\n",
      "10/10 - 0s - loss: 8.3398 - mae: 2.0617 - val_loss: 11.9261 - val_mae: 2.3865 - 22ms/epoch - 2ms/step\n",
      "Epoch 169/200\n",
      "10/10 - 0s - loss: 8.1130 - mae: 2.0505 - val_loss: 11.6430 - val_mae: 2.3903 - 22ms/epoch - 2ms/step\n",
      "Epoch 170/200\n",
      "10/10 - 0s - loss: 8.0051 - mae: 2.0396 - val_loss: 11.6115 - val_mae: 2.3997 - 20ms/epoch - 2ms/step\n",
      "Epoch 171/200\n",
      "10/10 - 0s - loss: 8.0716 - mae: 2.0712 - val_loss: 11.9405 - val_mae: 2.3818 - 21ms/epoch - 2ms/step\n",
      "Epoch 172/200\n",
      "10/10 - 0s - loss: 8.0614 - mae: 2.0511 - val_loss: 11.6740 - val_mae: 2.4385 - 20ms/epoch - 2ms/step\n",
      "Epoch 173/200\n",
      "10/10 - 0s - loss: 7.8536 - mae: 2.0310 - val_loss: 11.8099 - val_mae: 2.3703 - 21ms/epoch - 2ms/step\n",
      "Epoch 174/200\n",
      "10/10 - 0s - loss: 7.8896 - mae: 2.0157 - val_loss: 11.9284 - val_mae: 2.5100 - 20ms/epoch - 2ms/step\n",
      "Epoch 175/200\n",
      "10/10 - 0s - loss: 8.1584 - mae: 2.0534 - val_loss: 11.5419 - val_mae: 2.3779 - 21ms/epoch - 2ms/step\n",
      "Epoch 176/200\n",
      "10/10 - 0s - loss: 7.7843 - mae: 2.0333 - val_loss: 11.4793 - val_mae: 2.3966 - 21ms/epoch - 2ms/step\n",
      "Epoch 177/200\n",
      "10/10 - 0s - loss: 7.7725 - mae: 2.0425 - val_loss: 11.7331 - val_mae: 2.3819 - 21ms/epoch - 2ms/step\n",
      "Epoch 178/200\n",
      "10/10 - 0s - loss: 7.7768 - mae: 2.0072 - val_loss: 11.8571 - val_mae: 2.5068 - 20ms/epoch - 2ms/step\n",
      "Epoch 179/200\n",
      "10/10 - 0s - loss: 7.6222 - mae: 2.0552 - val_loss: 12.2909 - val_mae: 2.4080 - 20ms/epoch - 2ms/step\n",
      "Epoch 180/200\n",
      "10/10 - 0s - loss: 7.9033 - mae: 2.0657 - val_loss: 13.8472 - val_mae: 2.7842 - 20ms/epoch - 2ms/step\n",
      "Epoch 181/200\n",
      "10/10 - 0s - loss: 8.5494 - mae: 2.1949 - val_loss: 12.2992 - val_mae: 2.3987 - 22ms/epoch - 2ms/step\n",
      "Epoch 182/200\n",
      "10/10 - 0s - loss: 7.8677 - mae: 2.0656 - val_loss: 11.6041 - val_mae: 2.3827 - 21ms/epoch - 2ms/step\n",
      "Epoch 183/200\n",
      "10/10 - 0s - loss: 7.7207 - mae: 2.0051 - val_loss: 11.5828 - val_mae: 2.3766 - 19ms/epoch - 2ms/step\n",
      "Epoch 184/200\n",
      "10/10 - 0s - loss: 7.3735 - mae: 1.9812 - val_loss: 11.5491 - val_mae: 2.3610 - 21ms/epoch - 2ms/step\n",
      "Epoch 185/200\n",
      "10/10 - 0s - loss: 7.8265 - mae: 2.0398 - val_loss: 11.3529 - val_mae: 2.3936 - 22ms/epoch - 2ms/step\n",
      "Epoch 186/200\n",
      "10/10 - 0s - loss: 7.5550 - mae: 2.0242 - val_loss: 12.3225 - val_mae: 2.5651 - 21ms/epoch - 2ms/step\n",
      "Epoch 187/200\n",
      "10/10 - 0s - loss: 9.0285 - mae: 2.3154 - val_loss: 14.0140 - val_mae: 2.5482 - 21ms/epoch - 2ms/step\n",
      "Epoch 188/200\n",
      "10/10 - 0s - loss: 7.8136 - mae: 2.1105 - val_loss: 11.9192 - val_mae: 2.5145 - 21ms/epoch - 2ms/step\n",
      "Epoch 189/200\n",
      "10/10 - 0s - loss: 7.3843 - mae: 2.0085 - val_loss: 11.8290 - val_mae: 2.4012 - 23ms/epoch - 2ms/step\n",
      "Epoch 190/200\n",
      "10/10 - 0s - loss: 7.6755 - mae: 2.0657 - val_loss: 11.7962 - val_mae: 2.4442 - 21ms/epoch - 2ms/step\n",
      "Epoch 191/200\n",
      "10/10 - 0s - loss: 7.4912 - mae: 2.0020 - val_loss: 11.4745 - val_mae: 2.4544 - 22ms/epoch - 2ms/step\n",
      "Epoch 192/200\n",
      "10/10 - 0s - loss: 8.0091 - mae: 2.1104 - val_loss: 11.7624 - val_mae: 2.3742 - 20ms/epoch - 2ms/step\n",
      "Epoch 193/200\n",
      "10/10 - 0s - loss: 7.2410 - mae: 1.9958 - val_loss: 11.5637 - val_mae: 2.3611 - 21ms/epoch - 2ms/step\n",
      "Epoch 194/200\n",
      "10/10 - 0s - loss: 7.1186 - mae: 1.9365 - val_loss: 11.9521 - val_mae: 2.5035 - 23ms/epoch - 2ms/step\n",
      "Epoch 195/200\n",
      "10/10 - 0s - loss: 7.0355 - mae: 1.9754 - val_loss: 11.7877 - val_mae: 2.3672 - 21ms/epoch - 2ms/step\n",
      "Epoch 196/200\n",
      "10/10 - 0s - loss: 7.0401 - mae: 1.9722 - val_loss: 11.2479 - val_mae: 2.4026 - 22ms/epoch - 2ms/step\n",
      "Epoch 197/200\n",
      "10/10 - 0s - loss: 7.1356 - mae: 1.9830 - val_loss: 11.3767 - val_mae: 2.3772 - 20ms/epoch - 2ms/step\n",
      "Epoch 198/200\n",
      "10/10 - 0s - loss: 7.1364 - mae: 2.0326 - val_loss: 11.1973 - val_mae: 2.3225 - 20ms/epoch - 2ms/step\n",
      "Epoch 199/200\n",
      "10/10 - 0s - loss: 6.9066 - mae: 1.9751 - val_loss: 11.3901 - val_mae: 2.3450 - 20ms/epoch - 2ms/step\n",
      "Epoch 200/200\n",
      "10/10 - 0s - loss: 7.0151 - mae: 1.9795 - val_loss: 11.3206 - val_mae: 2.3929 - 21ms/epoch - 2ms/step\n"
     ]
    }
   ],
   "source": [
    "model = build_model(num_input=13)\n",
    "history = model.fit(X_train, y_train, batch_size=32, epochs=200,\n",
    "                    validation_split=0.25, verbose=2)"
   ]
  },
  {
   "cell_type": "code",
   "execution_count": 33,
   "metadata": {
    "colab": {
     "base_uri": "https://localhost:8080/",
     "height": 334
    },
    "executionInfo": {
     "elapsed": 13092,
     "status": "ok",
     "timestamp": 1603615342136,
     "user": {
      "displayName": "오승환",
      "photoUrl": "https://lh3.googleusercontent.com/a-/AOh14GgBRB1w8bMEGhEpsp7aa7I9MQGz2D37o6hJeKeW=s64",
      "userId": "00933700884551564729"
     },
     "user_tz": -540
    },
    "id": "YYwniSFL8Z1I",
    "outputId": "1c006421-a556-4445-b28f-9a92356fc6c3"
   },
   "outputs": [
    {
     "data": {
      "image/png": "[encoded data removed]",
      "text/plain": [
       "<Figure size 500x500 with 1 Axes>"
      ]
     },
     "metadata": {},
     "output_type": "display_data"
    }
   ],
   "source": [
    "import matplotlib.pyplot as plt\n",
    "def plot_loss_curve(total_epoch=10, start=1):\n",
    "    plt.figure(figsize=(5, 5))\n",
    "    plt.plot(range(start, total_epoch + 1), \n",
    "             history.history['loss'][start-1:total_epoch], \n",
    "             label='Train')\n",
    "    plt.plot(range(start, total_epoch + 1), \n",
    "             history.history['val_loss'][start-1:total_epoch], \n",
    "             label='Validation')\n",
    "    plt.xlabel('Epochs')\n",
    "    plt.ylabel('mse')\n",
    "    plt.legend()\n",
    "    plt.show()\n",
    "\n",
    "plot_loss_curve(total_epoch=200, start=1)"
   ]
  },
  {
   "cell_type": "code",
   "execution_count": 34,
   "metadata": {
    "colab": {
     "base_uri": "https://localhost:8080/",
     "height": 334
    },
    "executionInfo": {
     "elapsed": 13588,
     "status": "ok",
     "timestamp": 1603615342656,
     "user": {
      "displayName": "오승환",
      "photoUrl": "https://lh3.googleusercontent.com/a-/AOh14GgBRB1w8bMEGhEpsp7aa7I9MQGz2D37o6hJeKeW=s64",
      "userId": "00933700884551564729"
     },
     "user_tz": -540
    },
    "id": "NvA25luj-OxI",
    "outputId": "eac057c7-53e2-4326-b2ed-ac77099667e9"
   },
   "outputs": [
    {
     "data": {
      "image/png": "[encoded data removed]",
      "text/plain": [
       "<Figure size 500x500 with 1 Axes>"
      ]
     },
     "metadata": {},
     "output_type": "display_data"
    }
   ],
   "source": [
    "plot_loss_curve(total_epoch=200, start=20)"
   ]
  },
  {
   "cell_type": "code",
   "execution_count": null,
   "metadata": {},
   "outputs": [],
   "source": []
  }
 ],
 "metadata": {
  "colab": {
   "authorship_tag": "ABX9TyP+GuLEH7PcVW+CsIOlqidD",
   "collapsed_sections": [],
   "name": "5.2_boston_regression.ipynb",
   "provenance": []
  },
  "kernelspec": {
   "display_name": "Python 3 (ipykernel)",
   "language": "python",
   "name": "python3"
  },
  "language_info": {
   "codemirror_mode": {
    "name": "ipython",
    "version": 3
   },
   "file_extension": ".py",
   "mimetype": "text/x-python",
   "name": "python",
   "nbconvert_exporter": "python",
   "pygments_lexer": "ipython3",
   "version": "3.11.5"
  }
 },
 "nbformat": 4,
 "nbformat_minor": 1
}
