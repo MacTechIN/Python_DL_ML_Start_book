{
 "cells": [
  {
   "cell_type": "code",
   "execution_count": 2,
   "id": "18559e53",
   "metadata": {},
   "outputs": [],
   "source": [
    "import pandas as pd\n",
    "import numpy as np\n",
    "import random \n",
    "import tensorflow as tf"
   ]
  },
  {
   "cell_type": "code",
   "execution_count": 3,
   "id": "121dc448",
   "metadata": {},
   "outputs": [
    {
     "name": "stdout",
     "output_type": "stream",
     "text": [
      "고정시드 :  12\n"
     ]
    }
   ],
   "source": [
    "SEED = 12\n",
    "random.seed(SEED)\n",
    "np.random.seed(SEED)\n",
    "tf.random.set_seed(SEED)\n",
    "\n",
    "print(\"고정시드 : \", SEED)"
   ]
  },
  {
   "cell_type": "code",
   "execution_count": 6,
   "id": "777bce63",
   "metadata": {},
   "outputs": [
    {
     "name": "stdout",
     "output_type": "stream",
     "text": [
      "(5497, 14) (1000, 13) (1000, 2)\n"
     ]
    }
   ],
   "source": [
    "# Data Loading \n",
    "\n",
    "train = pd.read_csv('./wine_train.csv')\n",
    "test = pd.read_csv('./wine_test.csv')\n",
    "submission = pd.read_csv('./wine_sample_submission.csv')\n",
    "\n",
    "print(train.shape, test.shape, submission.shape) "
   ]
  },
  {
   "cell_type": "code",
   "execution_count": null,
   "id": "5a84abbc",
   "metadata": {},
   "outputs": [],
   "source": []
  }
 ],
 "metadata": {
  "kernelspec": {
   "display_name": "Python 3 (ipykernel)",
   "language": "python",
   "name": "python3"
  },
  "language_info": {
   "codemirror_mode": {
    "name": "ipython",
    "version": 3
   },
   "file_extension": ".py",
   "mimetype": "text/x-python",
   "name": "python",
   "nbconvert_exporter": "python",
   "pygments_lexer": "ipython3",
   "version": "3.11.5"
  }
 },
 "nbformat": 4,
 "nbformat_minor": 5
}
